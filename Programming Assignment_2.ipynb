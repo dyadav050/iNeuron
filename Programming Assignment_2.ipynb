{
 "cells": [
  {
   "cell_type": "code",
   "execution_count": 15,
   "id": "e6b25889",
   "metadata": {},
   "outputs": [
    {
     "name": "stdout",
     "output_type": "stream",
     "text": [
      "10 kilometers = 6.213710 miles\n"
     ]
    }
   ],
   "source": [
    "# Write a Python program to convert kilometers to miles?\n",
    "\n",
    "def convert(kms):\n",
    "    print(\"%d kilometers = %f miles\" %(kms, kms* 0.621371))\n",
    "    \n",
    "convert(10)\n"
   ]
  },
  {
   "cell_type": "code",
   "execution_count": 18,
   "id": "b5dd7a41",
   "metadata": {},
   "outputs": [
    {
     "name": "stdout",
     "output_type": "stream",
     "text": [
      "37 Celsius = 98.6 Fahrenheit\n"
     ]
    }
   ],
   "source": [
    "# Write a Python program to convert Celsius to Fahrenheit?\n",
    "\n",
    "def convert(temprature):\n",
    "    print(\"%d Celsius = %.1f Fahrenheit\" %(temprature,(temprature * 9 / 5)+32))\n",
    "    \n",
    "convert(37)\n"
   ]
  },
  {
   "cell_type": "code",
   "execution_count": 27,
   "id": "cfe19657",
   "metadata": {},
   "outputs": [
    {
     "name": "stdout",
     "output_type": "stream",
     "text": [
      "Calendar of 2021 : \n",
      "                                  2021\n",
      "\n",
      "      January                   February                   March\n",
      "Mo Tu We Th Fr Sa Su      Mo Tu We Th Fr Sa Su      Mo Tu We Th Fr Sa Su\n",
      "             1  2  3       1  2  3  4  5  6  7       1  2  3  4  5  6  7\n",
      " 4  5  6  7  8  9 10       8  9 10 11 12 13 14       8  9 10 11 12 13 14\n",
      "11 12 13 14 15 16 17      15 16 17 18 19 20 21      15 16 17 18 19 20 21\n",
      "18 19 20 21 22 23 24      22 23 24 25 26 27 28      22 23 24 25 26 27 28\n",
      "25 26 27 28 29 30 31                                29 30 31\n",
      "\n",
      "       April                      May                       June\n",
      "Mo Tu We Th Fr Sa Su      Mo Tu We Th Fr Sa Su      Mo Tu We Th Fr Sa Su\n",
      "          1  2  3  4                      1  2          1  2  3  4  5  6\n",
      " 5  6  7  8  9 10 11       3  4  5  6  7  8  9       7  8  9 10 11 12 13\n",
      "12 13 14 15 16 17 18      10 11 12 13 14 15 16      14 15 16 17 18 19 20\n",
      "19 20 21 22 23 24 25      17 18 19 20 21 22 23      21 22 23 24 25 26 27\n",
      "26 27 28 29 30            24 25 26 27 28 29 30      28 29 30\n",
      "                          31\n",
      "\n",
      "        July                     August                  September\n",
      "Mo Tu We Th Fr Sa Su      Mo Tu We Th Fr Sa Su      Mo Tu We Th Fr Sa Su\n",
      "          1  2  3  4                         1             1  2  3  4  5\n",
      " 5  6  7  8  9 10 11       2  3  4  5  6  7  8       6  7  8  9 10 11 12\n",
      "12 13 14 15 16 17 18       9 10 11 12 13 14 15      13 14 15 16 17 18 19\n",
      "19 20 21 22 23 24 25      16 17 18 19 20 21 22      20 21 22 23 24 25 26\n",
      "26 27 28 29 30 31         23 24 25 26 27 28 29      27 28 29 30\n",
      "                          30 31\n",
      "\n",
      "      October                   November                  December\n",
      "Mo Tu We Th Fr Sa Su      Mo Tu We Th Fr Sa Su      Mo Tu We Th Fr Sa Su\n",
      "             1  2  3       1  2  3  4  5  6  7             1  2  3  4  5\n",
      " 4  5  6  7  8  9 10       8  9 10 11 12 13 14       6  7  8  9 10 11 12\n",
      "11 12 13 14 15 16 17      15 16 17 18 19 20 21      13 14 15 16 17 18 19\n",
      "18 19 20 21 22 23 24      22 23 24 25 26 27 28      20 21 22 23 24 25 26\n",
      "25 26 27 28 29 30 31      29 30                     27 28 29 30 31\n",
      "\n"
     ]
    }
   ],
   "source": [
    "# Write a Python program to display calendar?\n",
    "\n",
    "import calendar\n",
    "\n",
    "def display_calendar(year):\n",
    "    print(\"Calendar of %d : \" %year)\n",
    "    print(calendar.calendar(year))\n",
    "\n",
    "display_calendar(2021)\n"
   ]
  },
  {
   "cell_type": "code",
   "execution_count": 28,
   "id": "cf81a6c8",
   "metadata": {},
   "outputs": [
    {
     "name": "stdout",
     "output_type": "stream",
     "text": [
      "Real and different roots \n",
      "1.5\n",
      "1.3333333333333333\n"
     ]
    }
   ],
   "source": [
    "# Write a Python program to solve quadratic equation?\n",
    "\n",
    "# Quadratic_equation : ax^2 + bx + c = 0\n",
    "\n",
    "import math\n",
    "\n",
    "def quadratic_equation(a,b,c):\n",
    "    \n",
    "    dis = b ** 2 - (4 * a * c)\n",
    "    sqrt_dis = math.sqrt(abs(dis))\n",
    "    \n",
    "    if(dis > 0):\n",
    "        print(\"Real and different roots \") \n",
    "        print((-b + sqrt_dis)/(2 * a)) \n",
    "        print((-b - sqrt_dis)/(2 * a))\n",
    "    \n",
    "    elif dis == 0: \n",
    "        print(\" real and same roots\") \n",
    "        print(-b / (2 * a)) \n",
    "      \n",
    "    else:\n",
    "        print(\"Complex Roots\") \n",
    "        print(- b / (2 * a), \" + i\", sqrt_dis) \n",
    "        print(- b / (2 * a), \" - i\", sqrt_dis)\n",
    "    \n",
    "quadratic_equation(6,-17,12)"
   ]
  },
  {
   "cell_type": "code",
   "execution_count": null,
   "id": "c653ad1f",
   "metadata": {},
   "outputs": [],
   "source": [
    "# Write a Python program to swap two variables without temp variable?\n",
    "\n",
    "def swap(a, b):\n",
    "    print(\"Initially a = %d and b = %d\" %(a,b))\n",
    "    a,b = b, a\n",
    "    print(\"After swapping a = %d and b = %d\" %(a,b))\n",
    "swap(10,5)"
   ]
  }
 ],
 "metadata": {
  "kernelspec": {
   "display_name": "Python 3",
   "language": "python",
   "name": "python3"
  },
  "language_info": {
   "codemirror_mode": {
    "name": "ipython",
    "version": 3
   },
   "file_extension": ".py",
   "mimetype": "text/x-python",
   "name": "python",
   "nbconvert_exporter": "python",
   "pygments_lexer": "ipython3",
   "version": "3.8.8"
  }
 },
 "nbformat": 4,
 "nbformat_minor": 5
}
