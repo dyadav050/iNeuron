{
 "cells": [
  {
   "cell_type": "code",
   "execution_count": 1,
   "id": "de27713b",
   "metadata": {},
   "outputs": [
    {
     "name": "stdout",
     "output_type": "stream",
     "text": [
      "Hello Python\n"
     ]
    }
   ],
   "source": [
    "#Write a Python program to print \"Hello Python\"?\n",
    "\n",
    "def display():\n",
    "    print(\"Hello Python\")\n",
    "\n",
    "display()"
   ]
  },
  {
   "cell_type": "code",
   "execution_count": 2,
   "id": "9f376d20",
   "metadata": {},
   "outputs": [
    {
     "name": "stdout",
     "output_type": "stream",
     "text": [
      "3\n",
      "0.5\n"
     ]
    }
   ],
   "source": [
    "# Write a Python program to do arithmetical operations addition and division.?\n",
    "\n",
    "def sum(num1,num2):\n",
    "    print(num1+num2)\n",
    "    print(num1/num2)\n",
    "\n",
    "sum(1,2)"
   ]
  },
  {
   "cell_type": "code",
   "execution_count": 4,
   "id": "7887e40b",
   "metadata": {},
   "outputs": [
    {
     "name": "stdout",
     "output_type": "stream",
     "text": [
      "5.0\n"
     ]
    }
   ],
   "source": [
    "# Write a Python program to find the area of a triangle?\n",
    "\n",
    "def area(height, base):\n",
    "    area = (height * base)/2\n",
    "    print(area)\n",
    "\n",
    "area(5,2)"
   ]
  },
  {
   "cell_type": "code",
   "execution_count": 10,
   "id": "0c756332",
   "metadata": {},
   "outputs": [
    {
     "name": "stdout",
     "output_type": "stream",
     "text": [
      "a = % and b = % 5 10\n"
     ]
    }
   ],
   "source": [
    "#Write a Python program to swap two variables?\n",
    "\n",
    "# def swap():\n",
    "#     a, b = 10, 5\n",
    "#     temp = a+b\n",
    "#     a= temp - a\n",
    "#     b = temp - b\n",
    "#     print(a,b)\n",
    "# swap()\n",
    "\n",
    "\n",
    "def swap(a, b):\n",
    "    a,b = b, a\n",
    "    print(\"a = % and b = %\",a,b)\n",
    "swap(10,5)"
   ]
  },
  {
   "cell_type": "code",
   "execution_count": 23,
   "id": "22b05e74",
   "metadata": {},
   "outputs": [
    {
     "data": {
      "text/plain": [
       "0.7113014679526185"
      ]
     },
     "execution_count": 23,
     "metadata": {},
     "output_type": "execute_result"
    }
   ],
   "source": [
    "# Write a Python program to generate a random number?\n",
    "\n",
    "import random\n",
    "\n",
    "random.random()"
   ]
  }
 ],
 "metadata": {
  "kernelspec": {
   "display_name": "Python 3",
   "language": "python",
   "name": "python3"
  },
  "language_info": {
   "codemirror_mode": {
    "name": "ipython",
    "version": 3
   },
   "file_extension": ".py",
   "mimetype": "text/x-python",
   "name": "python",
   "nbconvert_exporter": "python",
   "pygments_lexer": "ipython3",
   "version": "3.8.8"
  }
 },
 "nbformat": 4,
 "nbformat_minor": 5
}
