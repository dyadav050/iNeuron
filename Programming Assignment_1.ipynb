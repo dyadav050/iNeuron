{
 "cells": [
  {
   "cell_type": "code",
   "execution_count": 1,
   "id": "7a5d5b54",
   "metadata": {},
   "outputs": [
    {
     "name": "stdout",
     "output_type": "stream",
     "text": [
      "Hello Python\n"
     ]
    }
   ],
   "source": [
    "#Write a Python program to print \"Hello Python\"?\n",
    "\n",
    "def display():\n",
    "    print(\"Hello Python\")\n",
    "\n",
    "display()"
   ]
  },
  {
   "cell_type": "code",
   "execution_count": 34,
   "id": "2d08560a",
   "metadata": {},
   "outputs": [
    {
     "name": "stdout",
     "output_type": "stream",
     "text": [
      "Sum is 3\n",
      "Division 0.5\n"
     ]
    }
   ],
   "source": [
    "# Write a Python program to do arithmetical operations addition and division.?\n",
    "\n",
    "def sum(num1,num2):\n",
    "    print(\"Sum is\",num1+num2)\n",
    "    print(\"Division\",num1/num2)\n",
    "\n",
    "sum(1,2)"
   ]
  },
  {
   "cell_type": "code",
   "execution_count": 4,
   "id": "9d73d169",
   "metadata": {},
   "outputs": [
    {
     "name": "stdout",
     "output_type": "stream",
     "text": [
      "5.0\n"
     ]
    }
   ],
   "source": [
    "# Write a Python program to find the area of a triangle?\n",
    "\n",
    "def area(height, base):\n",
    "    area = (height * base)/2\n",
    "    print(area)\n",
    "\n",
    "area(5,2)"
   ]
  },
  {
   "cell_type": "code",
   "execution_count": 29,
   "id": "7b459224",
   "metadata": {},
   "outputs": [
    {
     "name": "stdout",
     "output_type": "stream",
     "text": [
      "Initially a = 10 and b = 5\n",
      "After swapping a = 5 and b = 10\n"
     ]
    }
   ],
   "source": [
    "#Write a Python program to swap two variables?\n",
    "\n",
    "# def swap():\n",
    "#     a, b = 10, 5\n",
    "#     temp = a+b\n",
    "#     a= temp - a\n",
    "#     b = temp - b\n",
    "#     print(a,b)\n",
    "# swap()\n",
    "\n",
    "\n",
    "def swap(a, b):\n",
    "    print(\"Initially a = %d and b = %d\" %(a,b))\n",
    "    a,b = b, a\n",
    "    print(\"After swapping a = %d and b = %d\" %(a,b))\n",
    "swap(10,5)"
   ]
  },
  {
   "cell_type": "code",
   "execution_count": 23,
   "id": "50bfaf30",
   "metadata": {},
   "outputs": [
    {
     "data": {
      "text/plain": [
       "0.7113014679526185"
      ]
     },
     "execution_count": 23,
     "metadata": {},
     "output_type": "execute_result"
    }
   ],
   "source": [
    "# Write a Python program to generate a random number?\n",
    "\n",
    "import random\n",
    "\n",
    "random.random()"
   ]
  }
 ],
 "metadata": {
  "kernelspec": {
   "display_name": "Python 3",
   "language": "python",
   "name": "python3"
  },
  "language_info": {
   "codemirror_mode": {
    "name": "ipython",
    "version": 3
   },
   "file_extension": ".py",
   "mimetype": "text/x-python",
   "name": "python",
   "nbconvert_exporter": "python",
   "pygments_lexer": "ipython3",
   "version": "3.8.8"
  }
 },
 "nbformat": 4,
 "nbformat_minor": 5
}
