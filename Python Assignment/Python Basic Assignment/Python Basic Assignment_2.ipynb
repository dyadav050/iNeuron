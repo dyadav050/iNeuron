{
 "cells": [
  {
   "cell_type": "markdown",
   "id": "b0c22651",
   "metadata": {},
   "source": [
    "### 1.What are the two values of the Boolean data type? How do you write them?\n"
   ]
  },
  {
   "cell_type": "markdown",
   "id": "93a36b83",
   "metadata": {},
   "source": [
    "True and False are the two values of the Boolean data type in python. They are written as \"True\" and \"False\" and represented as 1 and 0 respectively.\n"
   ]
  },
  {
   "cell_type": "markdown",
   "id": "2e365dbe",
   "metadata": {},
   "source": [
    "### 2. What are the three different types of Boolean operators?\n"
   ]
  },
  {
   "cell_type": "markdown",
   "id": "0bf5358f",
   "metadata": {},
   "source": [
    " \"AND\", \"OR\" and \"NOT\" are the three basic boolean operator's.\n",
    " "
   ]
  },
  {
   "cell_type": "markdown",
   "id": "5aed146e",
   "metadata": {},
   "source": [
    "### 3. Make a list of each Boolean operator's truth tables (i.e. every possible combination of Boolean values for the operator and what it evaluate ).\n"
   ]
  },
  {
   "cell_type": "markdown",
   "id": "67b44390",
   "metadata": {},
   "source": [
    "Condition1  Condition2   AND     OR     NOT\n",
    "\n",
    "  True         True       True     True   False\n",
    "  True         False      False    True   False\n",
    "  False        True       False    True   False\n",
    "  False        False      False    False  True\n"
   ]
  },
  {
   "cell_type": "markdown",
   "id": "c0399a02",
   "metadata": {},
   "source": [
    "### 4. What are the values of the following expressions?\n",
    "(5 > 4) and (3 == 5)\n",
    "not (5 > 4)\n",
    "(5 > 4) or (3 == 5)\n",
    "not ((5 > 4) or (3 == 5))\n",
    "(True and True) and (True == False)\n",
    "(not False) or (not True)\n"
   ]
  },
  {
   "cell_type": "code",
   "execution_count": 4,
   "id": "89379818",
   "metadata": {},
   "outputs": [
    {
     "data": {
      "text/plain": [
       "True"
      ]
     },
     "execution_count": 4,
     "metadata": {},
     "output_type": "execute_result"
    }
   ],
   "source": [
    "(5 > 4) and (3 == 5)"
   ]
  },
  {
   "cell_type": "code",
   "execution_count": 5,
   "id": "36d7f0f5",
   "metadata": {},
   "outputs": [
    {
     "data": {
      "text/plain": [
       "False"
      ]
     },
     "execution_count": 5,
     "metadata": {},
     "output_type": "execute_result"
    }
   ],
   "source": [
    "not (5 > 4)\n"
   ]
  },
  {
   "cell_type": "code",
   "execution_count": 6,
   "id": "2fe1444d",
   "metadata": {},
   "outputs": [
    {
     "data": {
      "text/plain": [
       "True"
      ]
     },
     "execution_count": 6,
     "metadata": {},
     "output_type": "execute_result"
    }
   ],
   "source": [
    "(5 > 4) or (3 == 5)\n"
   ]
  },
  {
   "cell_type": "code",
   "execution_count": 7,
   "id": "c8ed58c6",
   "metadata": {},
   "outputs": [
    {
     "data": {
      "text/plain": [
       "False"
      ]
     },
     "execution_count": 7,
     "metadata": {},
     "output_type": "execute_result"
    }
   ],
   "source": [
    "not ((5 > 4) or (3 == 5))\n"
   ]
  },
  {
   "cell_type": "code",
   "execution_count": 8,
   "id": "b7bad586",
   "metadata": {},
   "outputs": [
    {
     "data": {
      "text/plain": [
       "False"
      ]
     },
     "execution_count": 8,
     "metadata": {},
     "output_type": "execute_result"
    }
   ],
   "source": [
    "(True and True) and (True == False)\n"
   ]
  },
  {
   "cell_type": "code",
   "execution_count": 9,
   "id": "d94effbe",
   "metadata": {},
   "outputs": [
    {
     "data": {
      "text/plain": [
       "True"
      ]
     },
     "execution_count": 9,
     "metadata": {},
     "output_type": "execute_result"
    }
   ],
   "source": [
    "(not False) or (not True)"
   ]
  },
  {
   "cell_type": "markdown",
   "id": "c723ad8b",
   "metadata": {},
   "source": [
    "### 5. What are the six comparison operators?\n"
   ]
  },
  {
   "cell_type": "markdown",
   "id": "d2f53f6b",
   "metadata": {},
   "source": [
    "1.Less than ( < )\n",
    "2.Less than or equal to (<=)\n",
    "3.Greater than (>)\n",
    "4.Greater than or equal to (>=)\n",
    "5.Equal to ( == )\n",
    "6.Not equal to ( != )"
   ]
  },
  {
   "cell_type": "markdown",
   "id": "16cb6212",
   "metadata": {},
   "source": [
    "### 6. How do you tell the difference between the equal to and assignment operators?Describe a condition and when you would use one.  \n"
   ]
  },
  {
   "cell_type": "markdown",
   "id": "95874916",
   "metadata": {},
   "source": [
    "The \"=\" is a assignment operetor and it is used to assign the value on the right to the variable on the left. \n",
    "For example,"
   ]
  },
  {
   "cell_type": "code",
   "execution_count": 14,
   "id": "e28acaba",
   "metadata": {},
   "outputs": [],
   "source": [
    "a = 123\n",
    "b = 12.34\n",
    "ch = \"Devendra\""
   ]
  },
  {
   "cell_type": "code",
   "execution_count": 13,
   "id": "4206ebc2",
   "metadata": {},
   "outputs": [
    {
     "data": {
      "text/plain": [
       "(79273, 26.87, 'Devendra')"
      ]
     },
     "execution_count": 13,
     "metadata": {},
     "output_type": "execute_result"
    }
   ],
   "source": [
    "a,b,ch"
   ]
  },
  {
   "cell_type": "markdown",
   "id": "a3bc1fc4",
   "metadata": {},
   "source": [
    "Here values 123, 12.34 and \"Devendra\" is stored in variables a,b,ch respectively. \n",
    "Whereas, the \"==\" operator checks whether the two given operands are equal or not. If so, it returns True or False, otherwise. For example,"
   ]
  },
  {
   "cell_type": "code",
   "execution_count": 11,
   "id": "6459dfb6",
   "metadata": {},
   "outputs": [
    {
     "data": {
      "text/plain": [
       "True"
      ]
     },
     "execution_count": 11,
     "metadata": {},
     "output_type": "execute_result"
    }
   ],
   "source": [
    "4==4"
   ]
  },
  {
   "cell_type": "code",
   "execution_count": 12,
   "id": "5b99b738",
   "metadata": {},
   "outputs": [
    {
     "data": {
      "text/plain": [
       "False"
      ]
     },
     "execution_count": 12,
     "metadata": {},
     "output_type": "execute_result"
    }
   ],
   "source": [
    "5==4"
   ]
  },
  {
   "cell_type": "markdown",
   "id": "aea4a317",
   "metadata": {},
   "source": [
    "### 7. Identify the three blocks in this code:\n",
    "spam = 0\n",
    "if spam == 10:\n",
    "print('eggs')\n",
    "if spam > 5:\n",
    "print('bacon')\n",
    "else:\n",
    "print('ham')\n",
    "print('spam')\n",
    "print('spam')\n"
   ]
  },
  {
   "cell_type": "code",
   "execution_count": 16,
   "id": "c5641122",
   "metadata": {},
   "outputs": [
    {
     "name": "stdout",
     "output_type": "stream",
     "text": [
      "ham\n",
      "spam\n",
      "spam\n"
     ]
    }
   ],
   "source": [
    "spam = 0\n",
    "if spam == 10: #block1\n",
    "    print('eggs')\n",
    "if spam > 5: #block2\n",
    "    print('bacon')\n",
    "else: #block3\n",
    "    print('ham')\n",
    "    print('spam')\n",
    "    print('spam')"
   ]
  },
  {
   "cell_type": "markdown",
   "id": "3832c893",
   "metadata": {},
   "source": [
    "### 8. Write code that prints Hello if 1 is stored in spam, prints Howdy if 2 is stored in spam, and prints Greetings! if anything else is stored in spam.\n"
   ]
  },
  {
   "cell_type": "code",
   "execution_count": 19,
   "id": "ebcb1d79",
   "metadata": {},
   "outputs": [
    {
     "name": "stdout",
     "output_type": "stream",
     "text": [
      "Hello\n"
     ]
    }
   ],
   "source": [
    "spam = 1\n",
    "if spam == 1:\n",
    "    print(\"Hello\")\n",
    "elif spam == 2:\n",
    "    print(\"Howdy\")\n",
    "else:\n",
    "    print(\"Greetings!\")"
   ]
  },
  {
   "cell_type": "markdown",
   "id": "656515c2",
   "metadata": {},
   "source": [
    "### 9.If your programme is stuck in an endless loop, what keys you’ll press?\n"
   ]
  },
  {
   "cell_type": "markdown",
   "id": "a27aa7c6",
   "metadata": {},
   "source": [
    "Press Ctrl+C"
   ]
  },
  {
   "cell_type": "markdown",
   "id": "7ed7280b",
   "metadata": {},
   "source": [
    "### 10. How can you tell the difference between break and continue?\n"
   ]
  },
  {
   "cell_type": "markdown",
   "id": "42536e48",
   "metadata": {},
   "source": [
    "Break statements exist to exit or “break” a python for loop or while conditional loop. When the loop ends, the code picks up from and executes the next line immediately following the loop that was broken.\n",
    "The continue statement is used to skip code within a loop for certain iterations of the loop. After the code is skipped, the loop continues where it left off.\n"
   ]
  },
  {
   "cell_type": "markdown",
   "id": "5d7ea88e",
   "metadata": {},
   "source": [
    "### 11. In a for loop, what is the difference between range(10), range(0, 10), and range(0, 10, 1)?\n"
   ]
  },
  {
   "cell_type": "markdown",
   "id": "c362de43",
   "metadata": {},
   "source": [
    "range() allows the user to generate a series of numbers within a given range.\n",
    "\n",
    "range(10) - This will generate numbers between 0 to 10, not including 10\n",
    "range(0, 10) - This will generate numbers between 0 to 10, not including 10\n",
    "range(0, 10, 1) - This will generate numbers between 0 to 10, not including 10"
   ]
  },
  {
   "cell_type": "code",
   "execution_count": 21,
   "id": "33c30c2e",
   "metadata": {},
   "outputs": [
    {
     "name": "stdout",
     "output_type": "stream",
     "text": [
      "0\n",
      "1\n",
      "2\n",
      "3\n",
      "4\n",
      "5\n",
      "6\n",
      "7\n",
      "8\n",
      "9\n"
     ]
    }
   ],
   "source": [
    "for i in range(10): print(i)"
   ]
  },
  {
   "cell_type": "code",
   "execution_count": 22,
   "id": "ef29c579",
   "metadata": {},
   "outputs": [
    {
     "name": "stdout",
     "output_type": "stream",
     "text": [
      "0\n",
      "1\n",
      "2\n",
      "3\n",
      "4\n",
      "5\n",
      "6\n",
      "7\n",
      "8\n",
      "9\n"
     ]
    }
   ],
   "source": [
    "for i in range(0,10): print(i)"
   ]
  },
  {
   "cell_type": "code",
   "execution_count": 23,
   "id": "2a97bc0e",
   "metadata": {},
   "outputs": [
    {
     "name": "stdout",
     "output_type": "stream",
     "text": [
      "0\n",
      "1\n",
      "2\n",
      "3\n",
      "4\n",
      "5\n",
      "6\n",
      "7\n",
      "8\n",
      "9\n"
     ]
    }
   ],
   "source": [
    "for i in range(0,10,1): print(i)"
   ]
  },
  {
   "cell_type": "markdown",
   "id": "6b93f9f5",
   "metadata": {},
   "source": [
    "### 12. Write a short program that prints the numbers 1 to 10 using a for loop. Then write an equivalent program that prints the numbers 1 to 10 using a while loop.\n"
   ]
  },
  {
   "cell_type": "code",
   "execution_count": 25,
   "id": "f07d198a",
   "metadata": {},
   "outputs": [
    {
     "name": "stdout",
     "output_type": "stream",
     "text": [
      "1\n",
      "2\n",
      "3\n",
      "4\n",
      "5\n",
      "6\n",
      "7\n",
      "8\n",
      "9\n",
      "10\n"
     ]
    }
   ],
   "source": [
    "for i in range(1,11): print(i)"
   ]
  },
  {
   "cell_type": "code",
   "execution_count": 26,
   "id": "d7906a7f",
   "metadata": {},
   "outputs": [
    {
     "name": "stdout",
     "output_type": "stream",
     "text": [
      "1\n",
      "2\n",
      "3\n",
      "4\n",
      "5\n",
      "6\n",
      "7\n",
      "8\n",
      "9\n",
      "10\n"
     ]
    }
   ],
   "source": [
    "i = 1\n",
    "while(i<=10):\n",
    "    print(i)\n",
    "    i += 1 "
   ]
  },
  {
   "cell_type": "markdown",
   "id": "1fb567ef",
   "metadata": {},
   "source": [
    "### 13. If you had a function named bacon() inside a module named spam, how would you call it after importing spam?\n"
   ]
  },
  {
   "cell_type": "markdown",
   "id": "223bb6ed",
   "metadata": {},
   "source": [
    "The function can be called with spam.bacon()."
   ]
  },
  {
   "cell_type": "code",
   "execution_count": null,
   "id": "71806b4e",
   "metadata": {},
   "outputs": [],
   "source": []
  }
 ],
 "metadata": {
  "kernelspec": {
   "display_name": "Python 3",
   "language": "python",
   "name": "python3"
  },
  "language_info": {
   "codemirror_mode": {
    "name": "ipython",
    "version": 3
   },
   "file_extension": ".py",
   "mimetype": "text/x-python",
   "name": "python",
   "nbconvert_exporter": "python",
   "pygments_lexer": "ipython3",
   "version": "3.8.8"
  }
 },
 "nbformat": 4,
 "nbformat_minor": 5
}
