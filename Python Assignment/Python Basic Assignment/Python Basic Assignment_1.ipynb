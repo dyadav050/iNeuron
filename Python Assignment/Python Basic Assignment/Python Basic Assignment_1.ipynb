{
 "cells": [
  {
   "cell_type": "markdown",
   "id": "9bb22331",
   "metadata": {},
   "source": [
    "### 1. In the below elements which of them are values or an expression? eg:- values can be integer or string and expressions will be mathematical operators.\n",
    "* \n",
    "'hello'\n",
    "-87.8\n",
    "- \n",
    "/ \n",
    "+\t\n",
    "6 \n"
   ]
  },
  {
   "cell_type": "markdown",
   "id": "dbb70ae9",
   "metadata": {},
   "source": [
    "Values - 'hello', -87.8, 6\n",
    "Expressions - *,-,/,+\n"
   ]
  },
  {
   "cell_type": "markdown",
   "id": "5647aa0c",
   "metadata": {},
   "source": [
    "### 2. What is the difference between string and variable?"
   ]
  },
  {
   "cell_type": "markdown",
   "id": "efe123a7",
   "metadata": {},
   "source": [
    "Variables are symbols that you can use to store data in a program. You can think of them as an empty box that you fill with some data or value. \n",
    "Strings are data, so we can use them to fill up a variable. Declaring strings as variables can make it easier for us to work with strings throughout our Python programs."
   ]
  },
  {
   "cell_type": "markdown",
   "id": "3d784679",
   "metadata": {},
   "source": [
    "### 3. Describe three different data types."
   ]
  },
  {
   "cell_type": "markdown",
   "id": "bd6d58a6",
   "metadata": {},
   "source": [
    "Following are the standard or built-in data type of Python:\n",
    "\n",
    "Numeric -- consists of Interger, Float, Complex numbers\n",
    "Sequence Type -- String, List, Tuple\n",
    "Boolean - Data type with one of the two built-in values\n",
    "Set -- Set is an unordered collection of data type that is iterable, mutable and has no duplicate elements. \n",
    "Dictionary -- Dictionary holds key:value pair."
   ]
  },
  {
   "cell_type": "markdown",
   "id": "1190cd50",
   "metadata": {},
   "source": [
    "### 4. What is an expression made up of? What do all expressions do?"
   ]
  },
  {
   "cell_type": "markdown",
   "id": "318a8521",
   "metadata": {},
   "source": [
    "An expression is a piece of code that produces a value. It is made up of values, variable, operators, and call to functions. Furthermore, every value has a type. Example: c = a + b Addition expression, it will generate sum of 'a' and 'b' and assign it to variable 'c' Expressions follow the mathematically rules BODMAS to evaluate the result of an operation on the variable from right to left. Example : f = (9 + 3) 2 Above is assignment statement whose right-hand side (RHS) consist of two expressions. First expression will be (9 + 3) and second expression will be 12 2."
   ]
  },
  {
   "cell_type": "markdown",
   "id": "e09484b8",
   "metadata": {},
   "source": [
    "### 5. This assignment statements, like spam = 10. What is the difference between an expression and a statement?"
   ]
  },
  {
   "cell_type": "markdown",
   "id": "8cf0da02",
   "metadata": {},
   "source": [
    "A statement is an instruction that the Python interpreter can execute. Python executes statement and displays the result, if there is one. The result of a print statement is a value. Assignment statements don't produce a result. Example: print(\"Hellow\") f = ( 9 + 3 ) * 2\n",
    "\n",
    "In another word, “expression” is a combination of values and functions that are combined and interpreted by the compiler to create a new value, as opposed to a “statement” which is just a standalone unit of execution and Python displays the result, if there is one."
   ]
  },
  {
   "cell_type": "markdown",
   "id": "f72f0480",
   "metadata": {},
   "source": [
    "### 6. After running the following code, what does the variable bacon contain?\n",
    "bacon = 22\n",
    "bacon + 1"
   ]
  },
  {
   "cell_type": "code",
   "execution_count": 1,
   "id": "eafc3a6f",
   "metadata": {},
   "outputs": [
    {
     "data": {
      "text/plain": [
       "23"
      ]
     },
     "execution_count": 1,
     "metadata": {},
     "output_type": "execute_result"
    }
   ],
   "source": [
    "#The variable 'bacon' contains integer value 23.\n",
    "bacon = 22\n",
    "bacon + 1"
   ]
  },
  {
   "cell_type": "markdown",
   "id": "6aa13231",
   "metadata": {},
   "source": [
    "### 7. What should the values of the following two terms be?\n",
    "'spam' + 'spamspam'\n",
    "'spam' * 3\n"
   ]
  },
  {
   "cell_type": "code",
   "execution_count": 3,
   "id": "3f658e3c",
   "metadata": {},
   "outputs": [
    {
     "data": {
      "text/plain": [
       "'spamspamspam'"
      ]
     },
     "execution_count": 3,
     "metadata": {},
     "output_type": "execute_result"
    }
   ],
   "source": [
    "'spam' + 'spamspam'"
   ]
  },
  {
   "cell_type": "code",
   "execution_count": 4,
   "id": "d6ef0421",
   "metadata": {},
   "outputs": [
    {
     "data": {
      "text/plain": [
       "'spamspamspam'"
      ]
     },
     "execution_count": 4,
     "metadata": {},
     "output_type": "execute_result"
    }
   ],
   "source": [
    "'spam' * 3"
   ]
  },
  {
   "cell_type": "markdown",
   "id": "461b4ac8",
   "metadata": {},
   "source": [
    "### 8. Why is eggs a valid variable name while 100 is invalid?"
   ]
  },
  {
   "cell_type": "markdown",
   "id": "bc57f1dc",
   "metadata": {},
   "source": [
    "There are certain rules which Python interpreter follows while naming the variable name.\n",
    "\n",
    "-Variable names must begin with a letter from A-Z or the underscore character. Either lowercase or uppercase letters are acceptable.\n",
    "-Variable names may contain letters, digits (0-9) or the underscore character.\n",
    "-Variable names may not be a reserved word in Python\n",
    "\n",
    "Therefore, egg is a valid variable and 100 is invalid variable name in Python."
   ]
  },
  {
   "cell_type": "markdown",
   "id": "2a1e7784",
   "metadata": {},
   "source": [
    "### 9. What three functions can be used to get the integer, floating-point number, or string version of a value?"
   ]
  },
  {
   "cell_type": "markdown",
   "id": "2463e8a8",
   "metadata": {},
   "source": [
    "The int() , float() , and str( ) functions will evaluate to the integer, floating-point number, and string versions of the value passed to them.\n",
    "\n"
   ]
  },
  {
   "cell_type": "markdown",
   "id": "f42a9341",
   "metadata": {},
   "source": [
    "### 10. Why does this expression cause an error? How can you fix it?\n",
    "'I have eaten ' + 99 + ' burritos.'"
   ]
  },
  {
   "cell_type": "code",
   "execution_count": 5,
   "id": "2cc58cfb",
   "metadata": {},
   "outputs": [
    {
     "ename": "TypeError",
     "evalue": "can only concatenate str (not \"int\") to str",
     "output_type": "error",
     "traceback": [
      "\u001b[1;31m---------------------------------------------------------------------------\u001b[0m",
      "\u001b[1;31mTypeError\u001b[0m                                 Traceback (most recent call last)",
      "\u001b[1;32m<ipython-input-5-d24137131a5c>\u001b[0m in \u001b[0;36m<module>\u001b[1;34m\u001b[0m\n\u001b[1;32m----> 1\u001b[1;33m \u001b[1;34m'I have eaten '\u001b[0m \u001b[1;33m+\u001b[0m \u001b[1;36m99\u001b[0m \u001b[1;33m+\u001b[0m \u001b[1;34m' burritos.'\u001b[0m\u001b[1;33m\u001b[0m\u001b[1;33m\u001b[0m\u001b[0m\n\u001b[0m",
      "\u001b[1;31mTypeError\u001b[0m: can only concatenate str (not \"int\") to str"
     ]
    }
   ],
   "source": [
    "'I have eaten ' + 99 + ' burritos.'"
   ]
  },
  {
   "cell_type": "markdown",
   "id": "3622c5e8",
   "metadata": {},
   "source": [
    "Since 'I have eaten ' is a string , second value 99 is an integer and third value is a string. We can't add an integer to a string in python. We have to convert 99 to a string then we can execute the expression."
   ]
  },
  {
   "cell_type": "code",
   "execution_count": 6,
   "id": "dbd296b1",
   "metadata": {},
   "outputs": [
    {
     "data": {
      "text/plain": [
       "'I have eaten 99 burritos.'"
      ]
     },
     "execution_count": 6,
     "metadata": {},
     "output_type": "execute_result"
    }
   ],
   "source": [
    "'I have eaten ' + str(99) + ' burritos.'"
   ]
  },
  {
   "cell_type": "code",
   "execution_count": null,
   "id": "9e0d27b5",
   "metadata": {},
   "outputs": [],
   "source": []
  }
 ],
 "metadata": {
  "kernelspec": {
   "display_name": "Python 3",
   "language": "python",
   "name": "python3"
  },
  "language_info": {
   "codemirror_mode": {
    "name": "ipython",
    "version": 3
   },
   "file_extension": ".py",
   "mimetype": "text/x-python",
   "name": "python",
   "nbconvert_exporter": "python",
   "pygments_lexer": "ipython3",
   "version": "3.8.8"
  }
 },
 "nbformat": 4,
 "nbformat_minor": 5
}
