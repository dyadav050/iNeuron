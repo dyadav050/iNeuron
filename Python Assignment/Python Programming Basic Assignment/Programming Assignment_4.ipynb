{
 "cells": [
  {
   "cell_type": "code",
   "execution_count": 7,
   "id": "81bda19a",
   "metadata": {},
   "outputs": [
    {
     "name": "stdout",
     "output_type": "stream",
     "text": [
      "Factorial of 4 is 24\n",
      "Factorial of 5 is 120\n"
     ]
    }
   ],
   "source": [
    "# Write a Python Program to Find the Factorial of a Number?\n",
    "\n",
    "def factorial(num):\n",
    "    fact = 1\n",
    "    for i in range(2,num+1): \n",
    "        fact *= i\n",
    "    print(\"Factorial of\",num, \"is\", fact)\n",
    "    \n",
    "factorial(4)\n",
    "factorial(5)"
   ]
  },
  {
   "cell_type": "code",
   "execution_count": 16,
   "id": "66ae6c3b",
   "metadata": {},
   "outputs": [
    {
     "name": "stdout",
     "output_type": "stream",
     "text": [
      "8 X 1 = 8\n",
      "8 X 2 = 16\n",
      "8 X 3 = 24\n",
      "8 X 4 = 32\n",
      "8 X 5 = 40\n",
      "8 X 6 = 48\n",
      "8 X 7 = 56\n",
      "8 X 8 = 64\n",
      "8 X 9 = 72\n",
      "8 X 10 = 80\n"
     ]
    }
   ],
   "source": [
    "# Write a Python Program to Display the multiplication Table?\n",
    "\n",
    "def table(num):\n",
    "    for i in range(1,11):\n",
    "        print(num, \"X\", i,\"=\", num*i)\n",
    "\n",
    "table(8)"
   ]
  },
  {
   "cell_type": "code",
   "execution_count": 15,
   "id": "44603f46",
   "metadata": {},
   "outputs": [
    {
     "name": "stdout",
     "output_type": "stream",
     "text": [
      "0\n",
      "1\n",
      "1\n",
      "2\n",
      "3\n",
      "5\n",
      "8\n",
      "13\n",
      "21\n",
      "34\n"
     ]
    }
   ],
   "source": [
    "# Write a Python Program to Print the Fibonacci sequence?\n",
    "\n",
    "def fib(no_of_elememnts):\n",
    "    a,b = 0,1\n",
    "    print(a)\n",
    "    print(b)\n",
    "    for i in range (1,no_of_elememnts-1):\n",
    "        c = a+b\n",
    "        a,b = b,c\n",
    "        print(c)\n",
    "\n",
    "fib(10)"
   ]
  },
  {
   "cell_type": "code",
   "execution_count": 5,
   "id": "a428f37a",
   "metadata": {},
   "outputs": [
    {
     "name": "stdout",
     "output_type": "stream",
     "text": [
      "153 is armstrong\n",
      "9 is not armstrong\n"
     ]
    }
   ],
   "source": [
    "# Write a Python Program to Check Armstrong Number?\n",
    "\n",
    "def is_armstrong(num):\n",
    "    digits = len(str(num))\n",
    "    sum = 0\n",
    "    temp = num\n",
    "    while temp > 0:\n",
    "        rem = temp % 10\n",
    "#         print(rem)\n",
    "        temp //= 10\n",
    "#         print(temp)\n",
    "        sum += rem ** 3\n",
    "    if num == sum: print(num,\"is armstrong\")\n",
    "    else: print(num,\"is not armstrong\")\n",
    "        \n",
    "    \n",
    "is_armstrong(153)   \n",
    "is_armstrong(9)"
   ]
  },
  {
   "cell_type": "code",
   "execution_count": 13,
   "id": "0f482da9",
   "metadata": {},
   "outputs": [
    {
     "name": "stdout",
     "output_type": "stream",
     "text": [
      "Armstrong numbers between 1 and 153 are : \n",
      "1\n",
      "153\n",
      "Armstrong numbers between 1 and 1000 are : \n",
      "1\n",
      "153\n",
      "370\n",
      "371\n",
      "407\n"
     ]
    }
   ],
   "source": [
    "# Write a Python Program to Find Armstrong Number in an Interval?\n",
    "\n",
    "def is_armstrong(lower_limit,upper_limit):\n",
    "    print(\"Armstrong numbers between\", lower_limit, \"and\", upper_limit, \"are : \")\n",
    "    for i in range(lower_limit, upper_limit+1):\n",
    "        digits = len(str(i))\n",
    "        sum = 0\n",
    "        temp = i\n",
    "        while temp > 0:\n",
    "            rem = temp % 10\n",
    "            sum += rem ** 3\n",
    "            temp //= 10\n",
    "            \n",
    "        if i == sum: print(i)\n",
    "    \n",
    "is_armstrong(1,153)   \n",
    "is_armstrong(1,1000)\n"
   ]
  },
  {
   "cell_type": "code",
   "execution_count": 10,
   "id": "52aa1cc5",
   "metadata": {},
   "outputs": [
    {
     "name": "stdout",
     "output_type": "stream",
     "text": [
      "Sum of first 10 natural numbers : 55\n",
      "Sum of first 100 natural numbers : 5050\n"
     ]
    }
   ],
   "source": [
    "# Write a Python Program to Find the Sum of Natural Numbers?\n",
    "\n",
    "def sum_natural(num):\n",
    "    sum = 0\n",
    "    for i in range(1,num+1):\n",
    "        sum += i\n",
    "    print(\"Sum of first\",num,\"natural numbers :\",sum)\n",
    "sum_natural(10)\n",
    "sum_natural(100)"
   ]
  },
  {
   "cell_type": "code",
   "execution_count": null,
   "id": "f4ecd3e3",
   "metadata": {},
   "outputs": [],
   "source": []
  }
 ],
 "metadata": {
  "kernelspec": {
   "display_name": "Python 3",
   "language": "python",
   "name": "python3"
  },
  "language_info": {
   "codemirror_mode": {
    "name": "ipython",
    "version": 3
   },
   "file_extension": ".py",
   "mimetype": "text/x-python",
   "name": "python",
   "nbconvert_exporter": "python",
   "pygments_lexer": "ipython3",
   "version": "3.8.8"
  }
 },
 "nbformat": 4,
 "nbformat_minor": 5
}
