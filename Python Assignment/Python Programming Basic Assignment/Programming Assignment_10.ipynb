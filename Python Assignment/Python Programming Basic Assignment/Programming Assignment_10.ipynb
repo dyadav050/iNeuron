{
 "cells": [
  {
   "cell_type": "code",
   "execution_count": 3,
   "id": "5eaa4b4e",
   "metadata": {},
   "outputs": [
    {
     "name": "stdout",
     "output_type": "stream",
     "text": [
      "Sum is:  15\n"
     ]
    }
   ],
   "source": [
    "# Write a Python program to find sum of elements in list?\n",
    "def add(lst):\n",
    "    sum  = 0\n",
    "    for i in lst:\n",
    "        sum += i\n",
    "    return sum\n",
    "# lst = [1,2,3,4,5,6,7,78,2342,4535,3464,67,7,5675,868,67,8]\n",
    "lst = [1,2,3,4,5]\n",
    "print(\"Sum is: \",add(lst))        "
   ]
  },
  {
   "cell_type": "code",
   "execution_count": 6,
   "id": "a888a751",
   "metadata": {},
   "outputs": [
    {
     "name": "stdout",
     "output_type": "stream",
     "text": [
      "Product is:  120\n"
     ]
    }
   ],
   "source": [
    "# Write a Python program to  Multiply all numbers in the list?\n",
    "def mul(lst):\n",
    "    prod  = 1\n",
    "    for i in lst:\n",
    "        prod *= i\n",
    "    return prod\n",
    "# lst = [1,2,3,4,5,6,7,78,2342,4535,3464,67,7,5675,868,67,8]\n",
    "lst = [1,2,3,4,5]\n",
    "print(\"Product is: \",mul(lst))   "
   ]
  },
  {
   "cell_type": "code",
   "execution_count": 18,
   "id": "b0f6262d",
   "metadata": {},
   "outputs": [
    {
     "name": "stdout",
     "output_type": "stream",
     "text": [
      "Smallest is:  1\n"
     ]
    }
   ],
   "source": [
    "# Write a Python program to find smallest number in a list?\n",
    "def smallest(lst):\n",
    "    min = lst[0]\n",
    "    for i in lst:\n",
    "        if min > i:\n",
    "            min = i\n",
    "    return min\n",
    "# lst = [1,2,3,4,5,6,7,78,2342,4535,3464,67,7,5675,868,67,8]\n",
    "lst = [1,2,3,4,5,4]\n",
    "print(\"Smallest is: \",smallest(lst))   "
   ]
  },
  {
   "cell_type": "code",
   "execution_count": 20,
   "id": "dcfc01f6",
   "metadata": {},
   "outputs": [
    {
     "name": "stdout",
     "output_type": "stream",
     "text": [
      "Largest is:  5\n"
     ]
    }
   ],
   "source": [
    "# Write a Python program to find largest number in a list?\n",
    "def largest(lst):\n",
    "    max = lst[0]\n",
    "    for i in lst:\n",
    "        if max < i:\n",
    "            max = i\n",
    "    return max\n",
    "# lst = [1,2,3,4,5,6,7,78,2342,4535,3464,67,7,5675,868,67,8]\n",
    "lst = [1,2,3,4,5,4]\n",
    "print(\"Largest is: \",largest(lst))\n",
    "\n"
   ]
  },
  {
   "cell_type": "code",
   "execution_count": 24,
   "id": "8dba6e9d",
   "metadata": {},
   "outputs": [
    {
     "name": "stdout",
     "output_type": "stream",
     "text": [
      "Largest is:  5\n"
     ]
    }
   ],
   "source": [
    "# Write a Python program to find second largest number in a list?\n",
    "def second_largest(lst):\n",
    "    return sorted(lst)[-2]\n",
    "# lst = [1,2,3,4,5,6,7,78,2342,4535,3464,67,7,5675,868,67,8]\n",
    "lst = [1,2,3,4,5,4,10]\n",
    "print(\"Largest is: \",second_largest(lst))\n"
   ]
  },
  {
   "cell_type": "code",
   "execution_count": 25,
   "id": "bdb8ccbd",
   "metadata": {},
   "outputs": [
    {
     "name": "stdout",
     "output_type": "stream",
     "text": [
      "Largest is:  3\n"
     ]
    }
   ],
   "source": [
    "# Write a Python program to find N largest elements from a list?\n",
    "def n_largest(lst,n):\n",
    "    return sorted(lst)[-n]\n",
    "# lst = [1,2,3,4,5,6,7,78,2342,4535,3464,67,7,5675,868,67,8]\n",
    "lst = [1,2,3,4,5,4,10]\n",
    "print(\"Largest is: \",n_largest(lst,5))"
   ]
  },
  {
   "cell_type": "code",
   "execution_count": 27,
   "id": "22185b08",
   "metadata": {},
   "outputs": [
    {
     "name": "stdout",
     "output_type": "stream",
     "text": [
      "even nos:  [2, 4, 4, 10, 0]\n"
     ]
    }
   ],
   "source": [
    "# Write a Python program to print even numbers in a list?\n",
    "def even(lst):\n",
    "    return [i for i in lst if i%2==0] \n",
    "\n",
    "# lst = [1,2,3,4,5,6,7,78,2342,4535,3464,67,7,5675,868,67,8]\n",
    "lst = [1,2,3,4,5,4,10,0]\n",
    "print(\"even nos: \",even(lst))"
   ]
  },
  {
   "cell_type": "code",
   "execution_count": 28,
   "id": "518dc1c0",
   "metadata": {},
   "outputs": [
    {
     "name": "stdout",
     "output_type": "stream",
     "text": [
      "odd nos:  [1, 3, 5]\n"
     ]
    }
   ],
   "source": [
    "# Write a Python program to print odd numbers in a List?\n",
    "def odd(lst):\n",
    "    return [i for i in lst if i%2!=0] \n",
    "\n",
    "# lst = [1,2,3,4,5,6,7,78,2342,4535,3464,67,7,5675,868,67,8]\n",
    "lst = [1,2,3,4,5,4,10,0]\n",
    "print(\"odd nos: \",odd(lst))"
   ]
  },
  {
   "cell_type": "code",
   "execution_count": 31,
   "id": "8e7b92e4",
   "metadata": {},
   "outputs": [
    {
     "name": "stdout",
     "output_type": "stream",
     "text": [
      "List :  [1, 2, 3, 4, 5, 4, 10, 0, [1, 2]]\n"
     ]
    }
   ],
   "source": [
    "# Write a Python program to Remove empty List from List?\n",
    "def remove(lst):\n",
    "    return [i for i in lst if i != []]\n",
    "# lst = [1,2,3,4,5,6,7,78,2342,4535,3464,67,7,5675,868,67,8]\n",
    "lst = [1,2,[],3,4,5,4,10,0, [],[1,2]]\n",
    "print(\"List : \",remove(lst))    "
   ]
  },
  {
   "cell_type": "code",
   "execution_count": 33,
   "id": "5a57d6d5",
   "metadata": {},
   "outputs": [
    {
     "name": "stdout",
     "output_type": "stream",
     "text": [
      "List :  [1, 2, [], 3, 4, 5, 4, 10, 0, [], [1, 2]]\n"
     ]
    }
   ],
   "source": [
    "# Write a Python program to Cloning or Copying a list?\n",
    "def clone(lst):\n",
    "    lst_copy =  lst[:]\n",
    "    return lst_copy\n",
    "\n",
    "# lst = [1,2,3,4,5,6,7,78,2342,4535,3464,67,7,5675,868,67,8]\n",
    "lst = [1,2,[],3,4,5,4,10,0, [],[1,2]]\n",
    "print(\"List : \",clone(lst))   \n"
   ]
  },
  {
   "cell_type": "code",
   "execution_count": 39,
   "id": "95ed82fb",
   "metadata": {},
   "outputs": [
    {
     "name": "stdout",
     "output_type": "stream",
     "text": [
      "Occurances :  0\n"
     ]
    }
   ],
   "source": [
    "# Write a Python program to Count occurrences of an element in a list?\n",
    "def occurences(lst,n):\n",
    "    count = 0\n",
    "    for i in lst:\n",
    "        if i == n:\n",
    "            count+=1\n",
    "    return count\n",
    "\n",
    "# lst = [1,2,3,4,5,6,7,78,2342,4535,3464,67,7,5675,868,67,8]\n",
    "lst = [1,2,[],3,4,5,4,10,0, [],[1,2], 4]\n",
    "print(\"Occurances : \",occurences(lst,[1]))   \n"
   ]
  },
  {
   "cell_type": "code",
   "execution_count": null,
   "id": "e00677e0",
   "metadata": {},
   "outputs": [],
   "source": []
  }
 ],
 "metadata": {
  "kernelspec": {
   "display_name": "Python 3",
   "language": "python",
   "name": "python3"
  },
  "language_info": {
   "codemirror_mode": {
    "name": "ipython",
    "version": 3
   },
   "file_extension": ".py",
   "mimetype": "text/x-python",
   "name": "python",
   "nbconvert_exporter": "python",
   "pygments_lexer": "ipython3",
   "version": "3.8.8"
  }
 },
 "nbformat": 4,
 "nbformat_minor": 5
}
