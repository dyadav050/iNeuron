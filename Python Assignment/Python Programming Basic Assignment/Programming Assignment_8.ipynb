{
 "cells": [
  {
   "cell_type": "code",
   "execution_count": 1,
   "id": "165a71fd",
   "metadata": {
    "scrolled": true
   },
   "outputs": [
    {
     "name": "stdout",
     "output_type": "stream",
     "text": [
      "[[10, 10, 10], [10, 10, 10], [10, 10, 10]]\n"
     ]
    }
   ],
   "source": [
    "# Write a Python Program to Add Two Matrices?\n",
    "\n",
    "def matrix_add(m1,m2):\n",
    "    result1 = []\n",
    "    for i in range(len(m1)):\n",
    "        result = []\n",
    "        for j in range(len(m1)):\n",
    "            result.append(m1[i][j] + m2[i][j])\n",
    "        result1.append(result)\n",
    "    return result1\n",
    "\n",
    "mat1 = [[1,2,3],[4,5,6],[7,8,9]]\n",
    "mat2 = [[9,8,7],[6,5,4],[3,2,1]]\n",
    "\n",
    "\n",
    "print(matrix_add(mat1,mat2))\n"
   ]
  },
  {
   "cell_type": "code",
   "execution_count": 8,
   "id": "a2f14c5b",
   "metadata": {},
   "outputs": [
    {
     "name": "stdout",
     "output_type": "stream",
     "text": [
      "[[68, 30, 24, 18], [167, 84, 69, 54], [266, 138, 114, 90]]\n"
     ]
    }
   ],
   "source": [
    "# Write a Python Program to Multiply Two Matrices?\n",
    "\n",
    "def matrix_mul(m1,m2):\n",
    "    result = [[0 for col in range(len(m2[0]))] for row in range(len(m1))]\n",
    "    for i in range(len(m1)):\n",
    "        for j in range(len(m2[0])):\n",
    "            for k in range(len(m2)):\n",
    "                result[i][j] += m1[i][k] * m2[k][j]\n",
    "    return result\n",
    "\n",
    "mat1 = [[1,2,3],[4,5,6],[7,8,9]]\n",
    "mat2 = [[10,9,8,7],[11,6,5,4],[12,3,2,1]]\n",
    "\n",
    "\n",
    "print(matrix_mul(mat1,mat2))\n"
   ]
  },
  {
   "cell_type": "code",
   "execution_count": 16,
   "id": "a7796c1a",
   "metadata": {},
   "outputs": [
    {
     "name": "stdout",
     "output_type": "stream",
     "text": [
      "[[1, 4, 7], [2, 5, 8], [3, 6, 9]]\n"
     ]
    }
   ],
   "source": [
    "# Write a Python Program to Transpose a Matrix?\n",
    "\n",
    "def matrix_transpose(m1):\n",
    "    result = [[0 for col in range(len(m1[0]))] for row in range(len(m1))]\n",
    "    for i in range(len(m1)):\n",
    "        for j in range(len(m1[0])):\n",
    "                result[i][j] += m1[j][i]\n",
    "    return result\n",
    "\n",
    "mat1 = [[1,2,3],[4,5,6],[7,8,9]]\n",
    "\n",
    "print(matrix_transpose(mat1))\n"
   ]
  },
  {
   "cell_type": "code",
   "execution_count": 10,
   "id": "cce05f4b",
   "metadata": {},
   "outputs": [
    {
     "name": "stdout",
     "output_type": "stream",
     "text": [
      "['Hello', 'is', 'my', 'string', 'test', 'this', 'world']\n"
     ]
    }
   ],
   "source": [
    "# Write a Python Program to Sort Words in Alphabetic Order?\n",
    "\n",
    "def sort_words(lst):\n",
    "    lst.sort()\n",
    "    return lst\n",
    "\n",
    "words = ['Hello', 'world', 'this', 'is', 'my', 'test', 'string']  \n",
    "\n",
    "print(sort_words(words))\n"
   ]
  },
  {
   "cell_type": "code",
   "execution_count": 13,
   "id": "4f599550",
   "metadata": {},
   "outputs": [
    {
     "name": "stdout",
     "output_type": "stream",
     "text": [
      "Original string:  hELLO WORLD!! , this- is (my) @test - string.\n",
      "hELLO WORLD  this is my test  string\n"
     ]
    }
   ],
   "source": [
    "# Write a Python Program to Remove Punctuation From a String?\n",
    "\n",
    "def remove_punc(test_str):\n",
    "    punc = '''!()-[]{};:'\"\\,<>./?@#$%^&*_~'''\n",
    "    print(\"Original string: \", test_str)\n",
    "    \n",
    "    for i in test_str:\n",
    "        if i in punc:\n",
    "            test_str = test_str.replace(i, \"\")\n",
    "    return test_str\n",
    "    \n",
    "test_str = \"hELLO WORLD!! , this- is (my) @test - string.\"\n",
    "print(remove_punc(test_str))\n"
   ]
  },
  {
   "cell_type": "code",
   "execution_count": null,
   "id": "7ec7b457",
   "metadata": {},
   "outputs": [],
   "source": []
  }
 ],
 "metadata": {
  "kernelspec": {
   "display_name": "Python 3",
   "language": "python",
   "name": "python3"
  },
  "language_info": {
   "codemirror_mode": {
    "name": "ipython",
    "version": 3
   },
   "file_extension": ".py",
   "mimetype": "text/x-python",
   "name": "python",
   "nbconvert_exporter": "python",
   "pygments_lexer": "ipython3",
   "version": "3.8.8"
  }
 },
 "nbformat": 4,
 "nbformat_minor": 5
}
