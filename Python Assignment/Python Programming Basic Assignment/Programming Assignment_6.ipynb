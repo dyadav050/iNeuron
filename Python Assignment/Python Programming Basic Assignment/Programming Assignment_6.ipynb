{
 "cells": [
  {
   "cell_type": "code",
   "execution_count": 20,
   "id": "b71b6290",
   "metadata": {},
   "outputs": [
    {
     "name": "stdout",
     "output_type": "stream",
     "text": [
      "Enter number of elements in Fibonacci Sequence 10\n",
      "Fibonacci Sequence\n",
      "0\n",
      "1\n",
      "1\n",
      "2\n",
      "3\n",
      "5\n",
      "8\n",
      "13\n",
      "21\n",
      "34\n"
     ]
    }
   ],
   "source": [
    "# Write a Python Program to Display Fibonacci Sequence Using Recursion?\n",
    "# l=[0,1]\n",
    "# def fib(a,b,no_of_elememnts):\n",
    "#     c=a+b\n",
    "#     l.append(c)\n",
    "#     a,b=b,c\n",
    "#     no_of_elememnts -=1\n",
    "#     if no_of_elememnts != 0: \n",
    "#         fib(a,b, no_of_elememnts)\n",
    "#         return l\n",
    "#     else: return -1\n",
    "\n",
    "# no_of_elememnts = int(input(\"Enter number of elements in Fibonacci Sequence \"))\n",
    "# fib(0,1,no_of_elememnts-2)\n",
    "\n",
    "\n",
    "def fib(n):\n",
    "    if n <= 1:\n",
    "        return n\n",
    "    else:\n",
    "        return fib(n-1) + fib(n-2)\n",
    "\n",
    "\n",
    "no_of_elememnts = int(input(\"Enter number of elements in Fibonacci Sequence \"))\n",
    "\n",
    "if no_of_elememnts <= 1:\n",
    "    print(\"enter correct positive number of terms\")\n",
    "else: \n",
    "    print(\"Fibonacci Sequence\")\n",
    "    for i in range(no_of_elememnts):\n",
    "        print(fib(i))"
   ]
  },
  {
   "cell_type": "code",
   "execution_count": 4,
   "id": "cf521271",
   "metadata": {},
   "outputs": [
    {
     "name": "stdout",
     "output_type": "stream",
     "text": [
      "Enter a number who's factorial you want to find 6\n"
     ]
    },
    {
     "data": {
      "text/plain": [
       "720"
      ]
     },
     "execution_count": 4,
     "metadata": {},
     "output_type": "execute_result"
    }
   ],
   "source": [
    "# Write a Python Program to Find Factorial of Number Using Recursion?\n",
    "def factorial(n):\n",
    "    if n <=1 :\n",
    "        return n\n",
    "    else:\n",
    "        fact = n * factorial(n-1)\n",
    "        return fact\n",
    "    \n",
    "number = int(input(\"Enter a number who's factorial you want to find \"))\n",
    "factorial(number)\n"
   ]
  },
  {
   "cell_type": "code",
   "execution_count": 37,
   "id": "9fade7c1",
   "metadata": {},
   "outputs": [
    {
     "name": "stdout",
     "output_type": "stream",
     "text": [
      "Enter your height (in metere) : 1.73\n",
      "Enter your weight (in kg) : 65\n",
      "21.72\n",
      "Normal\n"
     ]
    }
   ],
   "source": [
    "# Write a Python Program to calculate your Body Mass Index?\n",
    "\n",
    "def bmi_calculator(height, weight):\n",
    "    bmi = weight / (height ** 2)\n",
    "    return bmi\n",
    "\n",
    "    \n",
    "height = float(input(\"Enter your height (in metere) : \"))\n",
    "weight = float(input(\"Enter your weight (in kg) : \"))\n",
    "\n",
    "bmi = bmi_calculator(height,weight)\n",
    "print(\"{:.2f}\".format(bmi))\n",
    "\n",
    "if bmi < 18.5 : print(\"Under weight\")\n",
    "elif bmi > 18.5 and bmi < 24.9 : print(\"Normal\")\n",
    "else: print(\"Over weight\")"
   ]
  },
  {
   "cell_type": "code",
   "execution_count": 43,
   "id": "0d7b00c7",
   "metadata": {},
   "outputs": [
    {
     "name": "stdout",
     "output_type": "stream",
     "text": [
      "4.61512051684126\n"
     ]
    }
   ],
   "source": [
    "# Write a Python Program to calculate the natural logarithm of any number?\n",
    "\n",
    "import math\n",
    "\n",
    "def log_calculator(n):\n",
    "    return math.log(n)\n",
    "    \n",
    "log=log_calculator(101)\n",
    "print(log)\n",
    "\n",
    "# or\n",
    "# print(math.log(101))"
   ]
  },
  {
   "cell_type": "code",
   "execution_count": 17,
   "id": "932cf07f",
   "metadata": {},
   "outputs": [
    {
     "name": "stdout",
     "output_type": "stream",
     "text": [
      "Enter a number till where you want to calculate sum of cubes 5\n"
     ]
    },
    {
     "data": {
      "text/plain": [
       "225"
      ]
     },
     "execution_count": 17,
     "metadata": {},
     "output_type": "execute_result"
    }
   ],
   "source": [
    "# Write a Python Program for cube sum of first n natural numbers?\n",
    "\n",
    "def sum_cubes(n):\n",
    "    sum = 0\n",
    "    for i in range(1,n+1):\n",
    "        sum += i ** 3\n",
    "#         print(sum)\n",
    "    return sum\n",
    "    \n",
    "number = int(input(\"Enter a number till where you want to calculate sum of cubes \"))\n",
    "sum_cubes(number)"
   ]
  },
  {
   "cell_type": "code",
   "execution_count": null,
   "id": "75b8f95d",
   "metadata": {},
   "outputs": [],
   "source": []
  },
  {
   "cell_type": "code",
   "execution_count": null,
   "id": "e818ffe2",
   "metadata": {},
   "outputs": [],
   "source": []
  }
 ],
 "metadata": {
  "kernelspec": {
   "display_name": "Python 3",
   "language": "python",
   "name": "python3"
  },
  "language_info": {
   "codemirror_mode": {
    "name": "ipython",
    "version": 3
   },
   "file_extension": ".py",
   "mimetype": "text/x-python",
   "name": "python",
   "nbconvert_exporter": "python",
   "pygments_lexer": "ipython3",
   "version": "3.8.8"
  }
 },
 "nbformat": 4,
 "nbformat_minor": 5
}
