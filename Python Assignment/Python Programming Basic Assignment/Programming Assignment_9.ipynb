{
 "cells": [
  {
   "cell_type": "code",
   "execution_count": 21,
   "id": "40e3809d",
   "metadata": {},
   "outputs": [
    {
     "name": "stdout",
     "output_type": "stream",
     "text": [
      "135 is disarium\n",
      "125 is not disarium\n"
     ]
    }
   ],
   "source": [
    "# Write a Python program to check if the given number is a Disarium Number?\n",
    "def is_disarium(number):\n",
    "    num = number\n",
    "    digit = len(str(num))\n",
    "    sum = 0\n",
    "    while num != 0:\n",
    "        n = num % 10\n",
    "        sum += n ** digit\n",
    "        digit -= 1\n",
    "        num = int(num / 10)\n",
    "    if sum == number:\n",
    "        return \"{0} is disarium\".format(number)\n",
    "    else:\n",
    "        return \"{0} is not disarium\".format(number)\n",
    "\n",
    "number = 135\n",
    "print(is_disarium(number))\n",
    "number = 125\n",
    "print(is_disarium(number))    \n",
    "    \n",
    "    "
   ]
  },
  {
   "cell_type": "code",
   "execution_count": 30,
   "id": "17a3760d",
   "metadata": {},
   "outputs": [
    {
     "name": "stdout",
     "output_type": "stream",
     "text": [
      "[1, 2, 3, 4, 5, 6, 7, 8, 9, 89]\n"
     ]
    }
   ],
   "source": [
    "# Write a Python program to print all disarium numbers between 1 to 100?\n",
    "def disarium_1to100():\n",
    "    result = []\n",
    "    for i in range (1,100+1):\n",
    "        num = i\n",
    "        digit = len(str(num))\n",
    "        sum = 0\n",
    "        while num != 0:\n",
    "            n = num % 10\n",
    "            sum += n ** digit\n",
    "            digit -= 1\n",
    "            num = int(num / 10)\n",
    "        if sum == i:\n",
    "            result.append(i)\n",
    "    return result\n",
    "print(disarium_1to100())   "
   ]
  },
  {
   "cell_type": "code",
   "execution_count": 4,
   "id": "e4d4f65d",
   "metadata": {},
   "outputs": [
    {
     "name": "stdout",
     "output_type": "stream",
     "text": [
      "19 is happy number\n",
      "20 is not a happy number\n"
     ]
    }
   ],
   "source": [
    "# Write a Python program to check if the given number is Happy Number?\n",
    "\n",
    "def happy_number(number):\n",
    "    lst = []\n",
    "    num = number\n",
    "    while True:\n",
    "        sum = 0\n",
    "        while num != 0:\n",
    "            n = num % 10\n",
    "            sum += n ** 2\n",
    "            num = int(num / 10)\n",
    "        if sum == 1:\n",
    "            return \"{0} is happy number\".format(number)\n",
    "        else:\n",
    "            \n",
    "            if sum in lst:\n",
    "                return \"{0} is not a happy number\".format(number)\n",
    "            else:\n",
    "                num = sum\n",
    "                lst.append(sum)          \n",
    "\n",
    "print(happy_number(19)) \n",
    "print(happy_number(20))  "
   ]
  },
  {
   "cell_type": "code",
   "execution_count": 29,
   "id": "7675c9c9",
   "metadata": {},
   "outputs": [
    {
     "name": "stdout",
     "output_type": "stream",
     "text": [
      "[1, 7, 10, 13, 19, 23, 28, 31, 32, 44, 49, 68, 70, 79, 82, 86, 91, 94, 97, 100]\n"
     ]
    }
   ],
   "source": [
    "# Write a Python program to print all happy numbers between 1 and 100?\n",
    "\n",
    "def happy_number_between1to100():\n",
    "    \n",
    "    happy= []\n",
    "    for i in range(1,100+1):\n",
    "        lst = []\n",
    "        num = i\n",
    "        while True:\n",
    "            sum = 0\n",
    "            while num != 0:\n",
    "                n = num % 10\n",
    "                sum += n ** 2\n",
    "                num = int(num / 10)\n",
    "            if sum == 1:\n",
    "                happy.append(i)\n",
    "            else:\n",
    "                if sum in lst:\n",
    "                    break\n",
    "                else:\n",
    "                    num = sum\n",
    "                    lst.append(sum)          \n",
    "    return happy\n",
    "\n",
    "print(happy_number_between1to100()) \n"
   ]
  },
  {
   "cell_type": "code",
   "execution_count": 23,
   "id": "cd5d3b91",
   "metadata": {},
   "outputs": [
    {
     "name": "stdout",
     "output_type": "stream",
     "text": [
      "18 is a Harshad number\n",
      "15 is not a Harshad number\n"
     ]
    }
   ],
   "source": [
    "# Write a Python program to determine whether the given number is a Harshad Number?\n",
    "\n",
    "def is_harshad(number):\n",
    "    num = number\n",
    "    sum = 0\n",
    "    while num != 0:\n",
    "        n = num % 10\n",
    "        sum += n\n",
    "        num = int(num / 10)\n",
    "    if number % sum == 0:\n",
    "        return \"{0} is a Harshad number\".format(number)\n",
    "    else:\n",
    "        return \"{0} is not a Harshad number\".format(number)\n",
    "\n",
    "number = 18\n",
    "print(is_harshad(number))\n",
    "number = 15\n",
    "print(is_harshad(number))"
   ]
  },
  {
   "cell_type": "code",
   "execution_count": 6,
   "id": "e54bbe3d",
   "metadata": {},
   "outputs": [],
   "source": [
    "# Write a Python program to print all pronic numbers between 1 and 100?"
   ]
  },
  {
   "cell_type": "code",
   "execution_count": 28,
   "id": "e3faa5b8",
   "metadata": {},
   "outputs": [
    {
     "name": "stdout",
     "output_type": "stream",
     "text": [
      "[1, 2, 3, 4, 5, 6, 7, 8, 9, 10, 12, 18, 20, 21, 24, 27, 30, 36, 40, 42, 45, 48, 50, 54, 60, 63, 70, 72, 80, 81, 84, 90, 100]\n"
     ]
    }
   ],
   "source": [
    "def harshad_number_between1to100():\n",
    "    result =[]\n",
    "    for i in range(1,100+1):\n",
    "        num = i\n",
    "        sum = 0\n",
    "        while num != 0:\n",
    "            n = num % 10\n",
    "            sum += n\n",
    "            num = int(num / 10)\n",
    "        if i % sum == 0:\n",
    "            result.append(i)\n",
    "    return result\n",
    "\n",
    "print(harshad_number_between1to100())"
   ]
  },
  {
   "cell_type": "code",
   "execution_count": null,
   "id": "85bda9bb",
   "metadata": {},
   "outputs": [],
   "source": []
  },
  {
   "cell_type": "code",
   "execution_count": null,
   "id": "7db20e9e",
   "metadata": {},
   "outputs": [],
   "source": []
  }
 ],
 "metadata": {
  "kernelspec": {
   "display_name": "Python 3",
   "language": "python",
   "name": "python3"
  },
  "language_info": {
   "codemirror_mode": {
    "name": "ipython",
    "version": 3
   },
   "file_extension": ".py",
   "mimetype": "text/x-python",
   "name": "python",
   "nbconvert_exporter": "python",
   "pygments_lexer": "ipython3",
   "version": "3.8.8"
  }
 },
 "nbformat": 4,
 "nbformat_minor": 5
}
