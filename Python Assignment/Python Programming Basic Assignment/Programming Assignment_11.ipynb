{
 "cells": [
  {
   "cell_type": "code",
   "execution_count": 5,
   "id": "11365611",
   "metadata": {
    "scrolled": true
   },
   "outputs": [
    {
     "name": "stdout",
     "output_type": "stream",
     "text": [
      "['software', 'collaborative', 'software']\n"
     ]
    }
   ],
   "source": [
    "# Write a Python program to find words which are greater than given length k?\n",
    "\n",
    "def words(string, l):\n",
    "    result = []\n",
    "    for i in string.split():\n",
    "        if (l < len(i)):\n",
    "            result.append(i)      \n",
    "    return result\n",
    "\n",
    "str  = \"A Wiki software is collaborative software that runs a wiki\"\n",
    "l = 5 \n",
    "print(words(str, l))"
   ]
  },
  {
   "cell_type": "code",
   "execution_count": 19,
   "id": "bd51f95f",
   "metadata": {},
   "outputs": [
    {
     "name": "stdout",
     "output_type": "stream",
     "text": [
      "Collaorative\n"
     ]
    }
   ],
   "source": [
    "# Write a Python program for removing i-th character from a string?\n",
    "def remove(str, i):\n",
    "    l_str = 0\n",
    "    result = []\n",
    "    for j in str:\n",
    "        if(i == l_str):\n",
    "            pass\n",
    "        else:\n",
    "            result += j\n",
    "        l_str += 1\n",
    "    return \"\".join(result)\n",
    "\n",
    "i = 5\n",
    "str = 'Collaborative'\n",
    "print(remove(str, 5))"
   ]
  },
  {
   "cell_type": "code",
   "execution_count": 17,
   "id": "05524038",
   "metadata": {
    "scrolled": true
   },
   "outputs": [
    {
     "name": "stdout",
     "output_type": "stream",
     "text": [
      "['', '', 'Hello', '', 'World']\n",
      "##Hello##World\n"
     ]
    }
   ],
   "source": [
    "# Write a Python program to split and join a string?\n",
    "\n",
    "def split_join(str):\n",
    "    s = str.split(\"-\")\n",
    "    print(s)\n",
    "    print(\"#\".join(s))\n",
    "\n",
    "split_join(\"--Hello--World\")"
   ]
  },
  {
   "cell_type": "code",
   "execution_count": 27,
   "id": "621770d0",
   "metadata": {},
   "outputs": [
    {
     "name": "stdout",
     "output_type": "stream",
     "text": [
      "String is binary\n",
      "String is not binary\n"
     ]
    }
   ],
   "source": [
    "# Write a Python to check if a given string is binary string or not?\n",
    "\n",
    "def check_binary(str):\n",
    "    for i in str:\n",
    "#         print(i)\n",
    "        if int(i) in (0,1):\n",
    "            pass\n",
    "        else:\n",
    "            return \"String is not binary\"\n",
    "    return \"String is binary\"\n",
    "\n",
    "print(check_binary(\"0101010\"))\n",
    "print(check_binary(\"0101012\"))\n"
   ]
  },
  {
   "cell_type": "code",
   "execution_count": 30,
   "id": "b79e1f4d",
   "metadata": {},
   "outputs": [
    {
     "name": "stdout",
     "output_type": "stream",
     "text": [
      "['program', 'uncommon', 'words', 'from', 'two', 'Strings?', 'all', 'duplicate', 'characters', 'in', 'string?']\n"
     ]
    }
   ],
   "source": [
    "# Write a Python program to find uncommon words from two Strings?\n",
    "\n",
    "def uncommon_words(str1,str2):\n",
    "    lst1 = str1.split()\n",
    "    lst2 = str2.split()\n",
    "    \n",
    "    uncommom = []\n",
    "    \n",
    "    for i in lst1:\n",
    "        if i not in lst2:\n",
    "            uncommom.append(i)\n",
    "    for j in lst2:\n",
    "        if j not in lst1:\n",
    "            uncommom.append(j)\n",
    "    return uncommom\n",
    "\n",
    "print(uncommon_words(\"Write a Python program to find uncommon words from two Strings?\",\"Write a Python to find all duplicate characters in string?\"))"
   ]
  },
  {
   "cell_type": "code",
   "execution_count": 38,
   "id": "b6c13396",
   "metadata": {},
   "outputs": [
    {
     "name": "stdout",
     "output_type": "stream",
     "text": [
      "['l', 'o']\n"
     ]
    }
   ],
   "source": [
    "# Write a Python to find all duplicate characters in string?\n",
    "\n",
    "def uncommon_words(str1):    \n",
    "    duplicate = {}\n",
    "    result = []\n",
    "    for i in str1:\n",
    "        if i in duplicate:\n",
    "            duplicate[i] += 1\n",
    "        else:\n",
    "            duplicate[i] = 1\n",
    "    for i in duplicate:\n",
    "        if duplicate[i] != 1:\n",
    "            result.append(i)\n",
    "    return result\n",
    "print(uncommon_words(\"HelloWorld\"))"
   ]
  },
  {
   "cell_type": "code",
   "execution_count": 44,
   "id": "6cc722dc",
   "metadata": {},
   "outputs": [
    {
     "name": "stdout",
     "output_type": "stream",
     "text": [
      "String does not contains special character\n",
      "String contains special character\n"
     ]
    }
   ],
   "source": [
    "# Write a Python Program to check if a string contains any special character?\n",
    "import re\n",
    "\n",
    "def spl_char(string):\n",
    "    regex = re.compile('[@_!#$%^&*()<>?/\\|}{~:]')\n",
    "      \n",
    "    if(regex.search(string) == None):\n",
    "        print(\"String does not contains special character\")    \n",
    "    else:\n",
    "        print(\"String contains special character\")    \n",
    "      \n",
    "  \n",
    "string = \"Hello World\"\n",
    "spl_char(string)\n",
    "  \n",
    "string = \"Hello#world\"\n",
    "spl_char(string)\n",
    "\n"
   ]
  },
  {
   "cell_type": "code",
   "execution_count": null,
   "id": "39923e2c",
   "metadata": {},
   "outputs": [],
   "source": []
  },
  {
   "cell_type": "code",
   "execution_count": null,
   "id": "b99852c7",
   "metadata": {},
   "outputs": [],
   "source": []
  }
 ],
 "metadata": {
  "kernelspec": {
   "display_name": "Python 3",
   "language": "python",
   "name": "python3"
  },
  "language_info": {
   "codemirror_mode": {
    "name": "ipython",
    "version": 3
   },
   "file_extension": ".py",
   "mimetype": "text/x-python",
   "name": "python",
   "nbconvert_exporter": "python",
   "pygments_lexer": "ipython3",
   "version": "3.8.8"
  }
 },
 "nbformat": 4,
 "nbformat_minor": 5
}
