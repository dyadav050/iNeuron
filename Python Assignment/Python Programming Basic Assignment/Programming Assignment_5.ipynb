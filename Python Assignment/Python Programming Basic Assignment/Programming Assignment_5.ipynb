{
 "cells": [
  {
   "cell_type": "code",
   "execution_count": 3,
   "id": "2c91c4a8",
   "metadata": {},
   "outputs": [
    {
     "name": "stdout",
     "output_type": "stream",
     "text": [
      "100\n"
     ]
    }
   ],
   "source": [
    "# Write a Python Program to Find LCM?\n",
    "\n",
    "def lcm(input1, input2):\n",
    "    if input1>input2:\n",
    "        greater = input1\n",
    "    else:\n",
    "        greater = input2\n",
    "    while True:\n",
    "        if greater % input1 == 0 and greater % input2 == 0:\n",
    "            print(greater)\n",
    "            break\n",
    "        greater +=1\n",
    "    \n",
    "lcm(20,50)\n"
   ]
  },
  {
   "cell_type": "code",
   "execution_count": 9,
   "id": "3e055fcb",
   "metadata": {},
   "outputs": [
    {
     "name": "stdout",
     "output_type": "stream",
     "text": [
      "50\n"
     ]
    }
   ],
   "source": [
    "# Write a Python Program to Find HCF?\n",
    "def hcf(input1, input2):\n",
    "    i = 1\n",
    "    l = []\n",
    "    if input1 < input2:\n",
    "        smaller = input1\n",
    "    else:\n",
    "        smaller = input2\n",
    "    while i <= smaller :\n",
    "        if input1 % i == 0 and input2 % i == 0:\n",
    "            l.append(i)\n",
    "        i +=1\n",
    "#     print(l)\n",
    "    print(max(l))\n",
    "\n",
    "hcf(100,150)"
   ]
  },
  {
   "cell_type": "code",
   "execution_count": 14,
   "id": "b45697e5",
   "metadata": {},
   "outputs": [
    {
     "name": "stdout",
     "output_type": "stream",
     "text": [
      "10 is:\n",
      "0b1010 in Binary\n",
      "0o12 in Octal\n",
      "0xa in Hexadecimal\n"
     ]
    }
   ],
   "source": [
    "# Write a Python Program to Convert Decimal to Binary, Octal and Hexadecimal?\n",
    "\n",
    "def convert(decimal):\n",
    "    print(decimal,\"is:\" )\n",
    "    print(bin(decimal),\"in Binary\")\n",
    "    print(oct(decimal),\"in Octal\")\n",
    "    print(hex(decimal),\"in Hexadecimal\")\n",
    "    \n",
    "convert(10)"
   ]
  },
  {
   "cell_type": "code",
   "execution_count": 10,
   "id": "4ebf5d99",
   "metadata": {},
   "outputs": [
    {
     "name": "stdout",
     "output_type": "stream",
     "text": [
      "ASCII value of b = 98\n"
     ]
    }
   ],
   "source": [
    "# Write a Python Program To Find ASCII value of a character?\n",
    "\n",
    "def ascii(ch):\n",
    "    print(\"ASCII value of\",ch, \"=\",ord(ch))\n",
    "\n",
    "ascii(\"b\")"
   ]
  },
  {
   "cell_type": "code",
   "execution_count": 1,
   "id": "50dcfe68",
   "metadata": {},
   "outputs": [
    {
     "name": "stdout",
     "output_type": "stream",
     "text": [
      "Enter 2 nos\n",
      "10\n",
      "2\n",
      "Enter operation's choice to perform\n",
      "1 - Addition\n",
      "2 - Subtraction\n",
      "3- Multiplication\n",
      "4 - Division\n",
      "3\n",
      "10 * 2 = 20\n"
     ]
    }
   ],
   "source": [
    "# Write a Python Program to Make a Simple Calculator with 4 basic mathematical operations?\n",
    "\n",
    "def add(a,b): return a+b\n",
    "\n",
    "def sub(a,b): return a-b\n",
    "\n",
    "def mul(a,b): return a*b\n",
    "\n",
    "def div(a,b): return a/b\n",
    "\n",
    "def calc():\n",
    "#     print(a+b)\n",
    "#     print(a-b)    \n",
    "#     print(a*b)    \n",
    "#     print(a/b)\n",
    "    print(\"Enter 2 nos\")\n",
    "    a = int(input())\n",
    "    b = int(input())\n",
    "    print(\"Enter operation's choice to perform\")\n",
    "    print(\"1 - Addition\")\n",
    "    print(\"2 - Subtraction\")\n",
    "    print(\"3- Multiplication\")\n",
    "    print(\"4 - Division\")\n",
    "    oper = int(input())\n",
    "    if oper == 1: \n",
    "        result = add(a,b)\n",
    "        print(\"{} + {} = {}\".format(a,b,result))\n",
    "    elif oper == 2: \n",
    "        result = sub(a,b)\n",
    "        print(\"{} - {} = {}\".format(a,b,result))\n",
    "    elif oper == 3: \n",
    "        result = mul(a,b)\n",
    "        print(\"{} * {} = {}\".format(a,b,result))\n",
    "    elif oper == 4:  \n",
    "        result = div(a,b)\n",
    "        print(\"{} / {} = {}\".format(a,b,result))\n",
    "    else: print(\"Enter Valid operation\")\n",
    "calc()"
   ]
  },
  {
   "cell_type": "code",
   "execution_count": null,
   "id": "00a456b6",
   "metadata": {},
   "outputs": [],
   "source": []
  },
  {
   "cell_type": "code",
   "execution_count": null,
   "id": "6fafac44",
   "metadata": {},
   "outputs": [],
   "source": []
  }
 ],
 "metadata": {
  "kernelspec": {
   "display_name": "Python 3",
   "language": "python",
   "name": "python3"
  },
  "language_info": {
   "codemirror_mode": {
    "name": "ipython",
    "version": 3
   },
   "file_extension": ".py",
   "mimetype": "text/x-python",
   "name": "python",
   "nbconvert_exporter": "python",
   "pygments_lexer": "ipython3",
   "version": "3.8.8"
  }
 },
 "nbformat": 4,
 "nbformat_minor": 5
}
