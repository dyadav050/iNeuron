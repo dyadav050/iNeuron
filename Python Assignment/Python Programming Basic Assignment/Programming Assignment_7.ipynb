{
 "cells": [
  {
   "cell_type": "code",
   "execution_count": 24,
   "id": "57a06463",
   "metadata": {},
   "outputs": [
    {
     "data": {
      "text/plain": [
       "5455"
      ]
     },
     "execution_count": 24,
     "metadata": {},
     "output_type": "execute_result"
    }
   ],
   "source": [
    "# Write a Python Program to find sum of array?\n",
    " \n",
    "def sum1(l):\n",
    "    sum = 0\n",
    "    for i in l:\n",
    "        sum += i\n",
    "    return sum\n",
    "\n",
    "l = [1,2,3,4,5,6,7,8,10,15,111,3335,3,456,46,363,636,6,3,363,63,3,6]\n",
    "sum1(l)\n",
    "\n",
    "# or sum(l) \n",
    "# sum(1,2,3,4,1,1)"
   ]
  },
  {
   "cell_type": "code",
   "execution_count": 21,
   "id": "9d6265a1",
   "metadata": {},
   "outputs": [
    {
     "data": {
      "text/plain": [
       "33333"
      ]
     },
     "execution_count": 21,
     "metadata": {},
     "output_type": "execute_result"
    }
   ],
   "source": [
    "# Write a Python Program to find largest element in an array?\n",
    "\n",
    "def largest(l):\n",
    "    max = l[0]\n",
    "    for i in l:\n",
    "        if(max <= i):\n",
    "            max = i\n",
    "    return max\n",
    "\n",
    "l = [1,2,3,4,5,6,7,8,10,15,111,3335,33333,456,46,363,636,6,3,363,63,3,6]\n",
    "largest(l)\n",
    "\n",
    "# print(max(l))"
   ]
  },
  {
   "cell_type": "code",
   "execution_count": 63,
   "id": "4343e428",
   "metadata": {},
   "outputs": [
    {
     "name": "stdout",
     "output_type": "stream",
     "text": [
      "Enter 1 for left rotation and 2 for right rotation : 1\n",
      "Enter number of rotations to perform : 3\n",
      "[4, 5, 6, 7, 8, 10, 15, 111, 3335, 33333, 456, 46, 363, 636, 6, 3, 363, 63, 3, 6, 1, 2, 3]\n"
     ]
    }
   ],
   "source": [
    "# Write a Python Program for array rotation?\n",
    "\n",
    "def left_rotation(l, rotation):\n",
    "    for j in range(rotation):\n",
    "        lst = []\n",
    "        num = l[0]\n",
    "        for i in range(1,len(l)):\n",
    "            lst.append(l[i])\n",
    "        lst.append(num)\n",
    "        l=lst\n",
    "    return lst\n",
    "    \n",
    "def right_rotation(l, rotation):\n",
    "    for j in range(rotation):\n",
    "        lst = []\n",
    "        num = l[-1]\n",
    "        lst.append(num)\n",
    "        for i in range(len(l)-1):\n",
    "            lst.append(l[i])\n",
    "        l=lst\n",
    "    return lst\n",
    "\n",
    "l = [1,2,3,4,5,6,7,8,10,15,111,3335,33333,456,46,363,636,6,3,363,63,3,6]\n",
    "# l = [1,2,3,4,5]\n",
    "\n",
    "\n",
    "select_rotation = int(input(\"Enter 1 for left rotation and 2 for right rotation : \"))\n",
    "# no_of_rotations = int(input(\"Enter number of rotations to perform : \"))\n",
    "if select_rotation == 1:\n",
    "    no_of_rotations = int(input(\"Enter number of rotations to perform : \"))\n",
    "    print(left_rotation(l,no_of_rotations))\n",
    "elif select_rotation == 2:\n",
    "    no_of_rotations = int(input(\"Enter number of rotations to perform : \"))\n",
    "    print(right_rotation(l,no_of_rotations))\n",
    "else:print(\"Invalid rotation selected\")"
   ]
  },
  {
   "cell_type": "code",
   "execution_count": 30,
   "id": "dd295483",
   "metadata": {},
   "outputs": [
    {
     "data": {
      "text/plain": [
       "[4, 5, 6, 1, 2, 3]"
      ]
     },
     "execution_count": 30,
     "metadata": {},
     "output_type": "execute_result"
    }
   ],
   "source": [
    "# Write a Python Program to Split the array and add the first part to the end?\n",
    "\n",
    "def split_add(l):\n",
    "    lst = []\n",
    "    half = int(len(l)/2)\n",
    "    for i in range(len(l)):\n",
    "        if i < half:\n",
    "            pass\n",
    "        else:\n",
    "            lst.append(l[i])\n",
    "            \n",
    "    for i in range(len(l)):\n",
    "        if i < half:\n",
    "            lst.append(l[i])\n",
    "    return lst\n",
    "\n",
    "# l = [1,2,3,4,5,6,7,8,10,15,111,3335,33333,456,46,363,636,6,3,363,63]\n",
    "l = [1,2,3,4,5,6]\n",
    "split_add(l)"
   ]
  },
  {
   "cell_type": "code",
   "execution_count": 45,
   "id": "06801ad8",
   "metadata": {},
   "outputs": [
    {
     "ename": "IndentationError",
     "evalue": "expected an indented block (<ipython-input-45-5a603922eb75>, line 25)",
     "output_type": "error",
     "traceback": [
      "\u001b[1;36m  File \u001b[1;32m\"<ipython-input-45-5a603922eb75>\"\u001b[1;36m, line \u001b[1;32m25\u001b[0m\n\u001b[1;33m    l = [10,20,30,30,50,60,60,61]\u001b[0m\n\u001b[1;37m                                 ^\u001b[0m\n\u001b[1;31mIndentationError\u001b[0m\u001b[1;31m:\u001b[0m expected an indented block\n"
     ]
    }
   ],
   "source": [
    "# Write a Python Program to check if given array is Monotonic?\n",
    "\n",
    "def isMonotonicIncreasing(l):\n",
    "    for i in range(len(l)-1):\n",
    "        if (l[i]<=l[i+1]):\n",
    "            pass\n",
    "        else:\n",
    "            return 0\n",
    "    return 1\n",
    "    \n",
    "def isMonotonicDecreasing(l):\n",
    "    for i in range(len(l)-1):\n",
    "        if (l[i]>=l[i+1]):\n",
    "            pass\n",
    "        else:\n",
    "            return 0\n",
    "    return 1\n",
    "    \n",
    "def isMonotonic(l):\n",
    "    if isMonotonicIncreasing(l) or isMonotonicDecreasing(l):\n",
    "#         print(\"Monotonic\")\n",
    "#     else:\n",
    "#         print(\"Not monotonic\")\n",
    "    \n",
    "l = [10,20,30,30,50,60,60,61]\n",
    "isMonotonic(l)"
   ]
  },
  {
   "cell_type": "code",
   "execution_count": null,
   "id": "012cbffc",
   "metadata": {},
   "outputs": [],
   "source": []
  }
 ],
 "metadata": {
  "kernelspec": {
   "display_name": "Python 3",
   "language": "python",
   "name": "python3"
  },
  "language_info": {
   "codemirror_mode": {
    "name": "ipython",
    "version": 3
   },
   "file_extension": ".py",
   "mimetype": "text/x-python",
   "name": "python",
   "nbconvert_exporter": "python",
   "pygments_lexer": "ipython3",
   "version": "3.8.8"
  }
 },
 "nbformat": 4,
 "nbformat_minor": 5
}
